{
 "cells": [
  {
   "cell_type": "code",
   "execution_count": 1,
   "metadata": {},
   "outputs": [],
   "source": [
    "import pandas as pd\n",
    "import numpy as np\n",
    "import matplotlib.pyplot as plt\n",
    "import seaborn as sns\n",
    "import warnings\n",
    "warnings.filterwarnings(\"ignore\")\n",
    "plt.style.use('fivethirtyeight')\n",
    "np.random.seed(777)\n",
    "%matplotlib inline\n",
    "%config InlineBackend.figure_format = 'retina'"
   ]
  },
  {
   "cell_type": "code",
   "execution_count": 2,
   "metadata": {},
   "outputs": [],
   "source": [
    "from tensorflow.keras.models import Sequential\n",
    "from tensorflow.keras.layers import Dense"
   ]
  },
  {
   "cell_type": "code",
   "execution_count": 3,
   "metadata": {},
   "outputs": [],
   "source": [
    "credit_df = pd.read_csv(\"/Users/karishmajoshi/Downloads/creditcard.csv\")"
   ]
  },
  {
   "cell_type": "markdown",
   "metadata": {},
   "source": [
    "## Data Exploration and Feature Engineering"
   ]
  },
  {
   "cell_type": "code",
   "execution_count": 4,
   "metadata": {},
   "outputs": [
    {
     "name": "stdout",
     "output_type": "stream",
     "text": [
      "<class 'pandas.core.frame.DataFrame'>\n",
      "RangeIndex: 284807 entries, 0 to 284806\n",
      "Data columns (total 31 columns):\n",
      " #   Column  Non-Null Count   Dtype  \n",
      "---  ------  --------------   -----  \n",
      " 0   Time    284807 non-null  float64\n",
      " 1   V1      284807 non-null  float64\n",
      " 2   V2      284807 non-null  float64\n",
      " 3   V3      284807 non-null  float64\n",
      " 4   V4      284807 non-null  float64\n",
      " 5   V5      284807 non-null  float64\n",
      " 6   V6      284807 non-null  float64\n",
      " 7   V7      284807 non-null  float64\n",
      " 8   V8      284807 non-null  float64\n",
      " 9   V9      284807 non-null  float64\n",
      " 10  V10     284807 non-null  float64\n",
      " 11  V11     284807 non-null  float64\n",
      " 12  V12     284807 non-null  float64\n",
      " 13  V13     284807 non-null  float64\n",
      " 14  V14     284807 non-null  float64\n",
      " 15  V15     284807 non-null  float64\n",
      " 16  V16     284807 non-null  float64\n",
      " 17  V17     284807 non-null  float64\n",
      " 18  V18     284807 non-null  float64\n",
      " 19  V19     284807 non-null  float64\n",
      " 20  V20     284807 non-null  float64\n",
      " 21  V21     284807 non-null  float64\n",
      " 22  V22     284807 non-null  float64\n",
      " 23  V23     284807 non-null  float64\n",
      " 24  V24     284807 non-null  float64\n",
      " 25  V25     284807 non-null  float64\n",
      " 26  V26     284807 non-null  float64\n",
      " 27  V27     284807 non-null  float64\n",
      " 28  V28     284807 non-null  float64\n",
      " 29  Amount  284807 non-null  float64\n",
      " 30  Class   284807 non-null  int64  \n",
      "dtypes: float64(30), int64(1)\n",
      "memory usage: 67.4 MB\n"
     ]
    }
   ],
   "source": [
    "credit_df.info()"
   ]
  },
  {
   "cell_type": "code",
   "execution_count": 5,
   "metadata": {},
   "outputs": [
    {
     "data": {
      "text/html": [
       "<div>\n",
       "<style scoped>\n",
       "    .dataframe tbody tr th:only-of-type {\n",
       "        vertical-align: middle;\n",
       "    }\n",
       "\n",
       "    .dataframe tbody tr th {\n",
       "        vertical-align: top;\n",
       "    }\n",
       "\n",
       "    .dataframe thead th {\n",
       "        text-align: right;\n",
       "    }\n",
       "</style>\n",
       "<table border=\"1\" class=\"dataframe\">\n",
       "  <thead>\n",
       "    <tr style=\"text-align: right;\">\n",
       "      <th></th>\n",
       "      <th>Time</th>\n",
       "      <th>V1</th>\n",
       "      <th>V2</th>\n",
       "      <th>V3</th>\n",
       "      <th>V4</th>\n",
       "      <th>V5</th>\n",
       "      <th>V6</th>\n",
       "      <th>V7</th>\n",
       "      <th>V8</th>\n",
       "      <th>V9</th>\n",
       "      <th>...</th>\n",
       "      <th>V21</th>\n",
       "      <th>V22</th>\n",
       "      <th>V23</th>\n",
       "      <th>V24</th>\n",
       "      <th>V25</th>\n",
       "      <th>V26</th>\n",
       "      <th>V27</th>\n",
       "      <th>V28</th>\n",
       "      <th>Amount</th>\n",
       "      <th>Class</th>\n",
       "    </tr>\n",
       "  </thead>\n",
       "  <tbody>\n",
       "    <tr>\n",
       "      <th>0</th>\n",
       "      <td>0.0</td>\n",
       "      <td>-1.359807</td>\n",
       "      <td>-0.072781</td>\n",
       "      <td>2.536347</td>\n",
       "      <td>1.378155</td>\n",
       "      <td>-0.338321</td>\n",
       "      <td>0.462388</td>\n",
       "      <td>0.239599</td>\n",
       "      <td>0.098698</td>\n",
       "      <td>0.363787</td>\n",
       "      <td>...</td>\n",
       "      <td>-0.018307</td>\n",
       "      <td>0.277838</td>\n",
       "      <td>-0.110474</td>\n",
       "      <td>0.066928</td>\n",
       "      <td>0.128539</td>\n",
       "      <td>-0.189115</td>\n",
       "      <td>0.133558</td>\n",
       "      <td>-0.021053</td>\n",
       "      <td>149.62</td>\n",
       "      <td>0</td>\n",
       "    </tr>\n",
       "    <tr>\n",
       "      <th>1</th>\n",
       "      <td>0.0</td>\n",
       "      <td>1.191857</td>\n",
       "      <td>0.266151</td>\n",
       "      <td>0.166480</td>\n",
       "      <td>0.448154</td>\n",
       "      <td>0.060018</td>\n",
       "      <td>-0.082361</td>\n",
       "      <td>-0.078803</td>\n",
       "      <td>0.085102</td>\n",
       "      <td>-0.255425</td>\n",
       "      <td>...</td>\n",
       "      <td>-0.225775</td>\n",
       "      <td>-0.638672</td>\n",
       "      <td>0.101288</td>\n",
       "      <td>-0.339846</td>\n",
       "      <td>0.167170</td>\n",
       "      <td>0.125895</td>\n",
       "      <td>-0.008983</td>\n",
       "      <td>0.014724</td>\n",
       "      <td>2.69</td>\n",
       "      <td>0</td>\n",
       "    </tr>\n",
       "    <tr>\n",
       "      <th>2</th>\n",
       "      <td>1.0</td>\n",
       "      <td>-1.358354</td>\n",
       "      <td>-1.340163</td>\n",
       "      <td>1.773209</td>\n",
       "      <td>0.379780</td>\n",
       "      <td>-0.503198</td>\n",
       "      <td>1.800499</td>\n",
       "      <td>0.791461</td>\n",
       "      <td>0.247676</td>\n",
       "      <td>-1.514654</td>\n",
       "      <td>...</td>\n",
       "      <td>0.247998</td>\n",
       "      <td>0.771679</td>\n",
       "      <td>0.909412</td>\n",
       "      <td>-0.689281</td>\n",
       "      <td>-0.327642</td>\n",
       "      <td>-0.139097</td>\n",
       "      <td>-0.055353</td>\n",
       "      <td>-0.059752</td>\n",
       "      <td>378.66</td>\n",
       "      <td>0</td>\n",
       "    </tr>\n",
       "    <tr>\n",
       "      <th>3</th>\n",
       "      <td>1.0</td>\n",
       "      <td>-0.966272</td>\n",
       "      <td>-0.185226</td>\n",
       "      <td>1.792993</td>\n",
       "      <td>-0.863291</td>\n",
       "      <td>-0.010309</td>\n",
       "      <td>1.247203</td>\n",
       "      <td>0.237609</td>\n",
       "      <td>0.377436</td>\n",
       "      <td>-1.387024</td>\n",
       "      <td>...</td>\n",
       "      <td>-0.108300</td>\n",
       "      <td>0.005274</td>\n",
       "      <td>-0.190321</td>\n",
       "      <td>-1.175575</td>\n",
       "      <td>0.647376</td>\n",
       "      <td>-0.221929</td>\n",
       "      <td>0.062723</td>\n",
       "      <td>0.061458</td>\n",
       "      <td>123.50</td>\n",
       "      <td>0</td>\n",
       "    </tr>\n",
       "    <tr>\n",
       "      <th>4</th>\n",
       "      <td>2.0</td>\n",
       "      <td>-1.158233</td>\n",
       "      <td>0.877737</td>\n",
       "      <td>1.548718</td>\n",
       "      <td>0.403034</td>\n",
       "      <td>-0.407193</td>\n",
       "      <td>0.095921</td>\n",
       "      <td>0.592941</td>\n",
       "      <td>-0.270533</td>\n",
       "      <td>0.817739</td>\n",
       "      <td>...</td>\n",
       "      <td>-0.009431</td>\n",
       "      <td>0.798278</td>\n",
       "      <td>-0.137458</td>\n",
       "      <td>0.141267</td>\n",
       "      <td>-0.206010</td>\n",
       "      <td>0.502292</td>\n",
       "      <td>0.219422</td>\n",
       "      <td>0.215153</td>\n",
       "      <td>69.99</td>\n",
       "      <td>0</td>\n",
       "    </tr>\n",
       "  </tbody>\n",
       "</table>\n",
       "<p>5 rows × 31 columns</p>\n",
       "</div>"
      ],
      "text/plain": [
       "   Time        V1        V2        V3        V4        V5        V6        V7  \\\n",
       "0   0.0 -1.359807 -0.072781  2.536347  1.378155 -0.338321  0.462388  0.239599   \n",
       "1   0.0  1.191857  0.266151  0.166480  0.448154  0.060018 -0.082361 -0.078803   \n",
       "2   1.0 -1.358354 -1.340163  1.773209  0.379780 -0.503198  1.800499  0.791461   \n",
       "3   1.0 -0.966272 -0.185226  1.792993 -0.863291 -0.010309  1.247203  0.237609   \n",
       "4   2.0 -1.158233  0.877737  1.548718  0.403034 -0.407193  0.095921  0.592941   \n",
       "\n",
       "         V8        V9  ...       V21       V22       V23       V24       V25  \\\n",
       "0  0.098698  0.363787  ... -0.018307  0.277838 -0.110474  0.066928  0.128539   \n",
       "1  0.085102 -0.255425  ... -0.225775 -0.638672  0.101288 -0.339846  0.167170   \n",
       "2  0.247676 -1.514654  ...  0.247998  0.771679  0.909412 -0.689281 -0.327642   \n",
       "3  0.377436 -1.387024  ... -0.108300  0.005274 -0.190321 -1.175575  0.647376   \n",
       "4 -0.270533  0.817739  ... -0.009431  0.798278 -0.137458  0.141267 -0.206010   \n",
       "\n",
       "        V26       V27       V28  Amount  Class  \n",
       "0 -0.189115  0.133558 -0.021053  149.62      0  \n",
       "1  0.125895 -0.008983  0.014724    2.69      0  \n",
       "2 -0.139097 -0.055353 -0.059752  378.66      0  \n",
       "3 -0.221929  0.062723  0.061458  123.50      0  \n",
       "4  0.502292  0.219422  0.215153   69.99      0  \n",
       "\n",
       "[5 rows x 31 columns]"
      ]
     },
     "execution_count": 5,
     "metadata": {},
     "output_type": "execute_result"
    }
   ],
   "source": [
    "credit_df.head()"
   ]
  },
  {
   "cell_type": "code",
   "execution_count": 6,
   "metadata": {},
   "outputs": [
    {
     "data": {
      "text/html": [
       "<div>\n",
       "<style scoped>\n",
       "    .dataframe tbody tr th:only-of-type {\n",
       "        vertical-align: middle;\n",
       "    }\n",
       "\n",
       "    .dataframe tbody tr th {\n",
       "        vertical-align: top;\n",
       "    }\n",
       "\n",
       "    .dataframe thead th {\n",
       "        text-align: right;\n",
       "    }\n",
       "</style>\n",
       "<table border=\"1\" class=\"dataframe\">\n",
       "  <thead>\n",
       "    <tr style=\"text-align: right;\">\n",
       "      <th></th>\n",
       "      <th>Time</th>\n",
       "      <th>V1</th>\n",
       "      <th>V2</th>\n",
       "      <th>V3</th>\n",
       "      <th>V4</th>\n",
       "      <th>V5</th>\n",
       "      <th>V6</th>\n",
       "      <th>V7</th>\n",
       "      <th>V8</th>\n",
       "      <th>V9</th>\n",
       "      <th>...</th>\n",
       "      <th>V21</th>\n",
       "      <th>V22</th>\n",
       "      <th>V23</th>\n",
       "      <th>V24</th>\n",
       "      <th>V25</th>\n",
       "      <th>V26</th>\n",
       "      <th>V27</th>\n",
       "      <th>V28</th>\n",
       "      <th>Amount</th>\n",
       "      <th>Class</th>\n",
       "    </tr>\n",
       "  </thead>\n",
       "  <tbody>\n",
       "    <tr>\n",
       "      <th>count</th>\n",
       "      <td>284807.000000</td>\n",
       "      <td>2.848070e+05</td>\n",
       "      <td>2.848070e+05</td>\n",
       "      <td>2.848070e+05</td>\n",
       "      <td>2.848070e+05</td>\n",
       "      <td>2.848070e+05</td>\n",
       "      <td>2.848070e+05</td>\n",
       "      <td>2.848070e+05</td>\n",
       "      <td>2.848070e+05</td>\n",
       "      <td>2.848070e+05</td>\n",
       "      <td>...</td>\n",
       "      <td>2.848070e+05</td>\n",
       "      <td>2.848070e+05</td>\n",
       "      <td>2.848070e+05</td>\n",
       "      <td>2.848070e+05</td>\n",
       "      <td>2.848070e+05</td>\n",
       "      <td>2.848070e+05</td>\n",
       "      <td>2.848070e+05</td>\n",
       "      <td>2.848070e+05</td>\n",
       "      <td>284807.000000</td>\n",
       "      <td>284807.000000</td>\n",
       "    </tr>\n",
       "    <tr>\n",
       "      <th>mean</th>\n",
       "      <td>94813.859575</td>\n",
       "      <td>3.919560e-15</td>\n",
       "      <td>5.688174e-16</td>\n",
       "      <td>-8.769071e-15</td>\n",
       "      <td>2.782312e-15</td>\n",
       "      <td>-1.552563e-15</td>\n",
       "      <td>2.010663e-15</td>\n",
       "      <td>-1.694249e-15</td>\n",
       "      <td>-1.927028e-16</td>\n",
       "      <td>-3.137024e-15</td>\n",
       "      <td>...</td>\n",
       "      <td>1.537294e-16</td>\n",
       "      <td>7.959909e-16</td>\n",
       "      <td>5.367590e-16</td>\n",
       "      <td>4.458112e-15</td>\n",
       "      <td>1.453003e-15</td>\n",
       "      <td>1.699104e-15</td>\n",
       "      <td>-3.660161e-16</td>\n",
       "      <td>-1.206049e-16</td>\n",
       "      <td>88.349619</td>\n",
       "      <td>0.001727</td>\n",
       "    </tr>\n",
       "    <tr>\n",
       "      <th>std</th>\n",
       "      <td>47488.145955</td>\n",
       "      <td>1.958696e+00</td>\n",
       "      <td>1.651309e+00</td>\n",
       "      <td>1.516255e+00</td>\n",
       "      <td>1.415869e+00</td>\n",
       "      <td>1.380247e+00</td>\n",
       "      <td>1.332271e+00</td>\n",
       "      <td>1.237094e+00</td>\n",
       "      <td>1.194353e+00</td>\n",
       "      <td>1.098632e+00</td>\n",
       "      <td>...</td>\n",
       "      <td>7.345240e-01</td>\n",
       "      <td>7.257016e-01</td>\n",
       "      <td>6.244603e-01</td>\n",
       "      <td>6.056471e-01</td>\n",
       "      <td>5.212781e-01</td>\n",
       "      <td>4.822270e-01</td>\n",
       "      <td>4.036325e-01</td>\n",
       "      <td>3.300833e-01</td>\n",
       "      <td>250.120109</td>\n",
       "      <td>0.041527</td>\n",
       "    </tr>\n",
       "    <tr>\n",
       "      <th>min</th>\n",
       "      <td>0.000000</td>\n",
       "      <td>-5.640751e+01</td>\n",
       "      <td>-7.271573e+01</td>\n",
       "      <td>-4.832559e+01</td>\n",
       "      <td>-5.683171e+00</td>\n",
       "      <td>-1.137433e+02</td>\n",
       "      <td>-2.616051e+01</td>\n",
       "      <td>-4.355724e+01</td>\n",
       "      <td>-7.321672e+01</td>\n",
       "      <td>-1.343407e+01</td>\n",
       "      <td>...</td>\n",
       "      <td>-3.483038e+01</td>\n",
       "      <td>-1.093314e+01</td>\n",
       "      <td>-4.480774e+01</td>\n",
       "      <td>-2.836627e+00</td>\n",
       "      <td>-1.029540e+01</td>\n",
       "      <td>-2.604551e+00</td>\n",
       "      <td>-2.256568e+01</td>\n",
       "      <td>-1.543008e+01</td>\n",
       "      <td>0.000000</td>\n",
       "      <td>0.000000</td>\n",
       "    </tr>\n",
       "    <tr>\n",
       "      <th>25%</th>\n",
       "      <td>54201.500000</td>\n",
       "      <td>-9.203734e-01</td>\n",
       "      <td>-5.985499e-01</td>\n",
       "      <td>-8.903648e-01</td>\n",
       "      <td>-8.486401e-01</td>\n",
       "      <td>-6.915971e-01</td>\n",
       "      <td>-7.682956e-01</td>\n",
       "      <td>-5.540759e-01</td>\n",
       "      <td>-2.086297e-01</td>\n",
       "      <td>-6.430976e-01</td>\n",
       "      <td>...</td>\n",
       "      <td>-2.283949e-01</td>\n",
       "      <td>-5.423504e-01</td>\n",
       "      <td>-1.618463e-01</td>\n",
       "      <td>-3.545861e-01</td>\n",
       "      <td>-3.171451e-01</td>\n",
       "      <td>-3.269839e-01</td>\n",
       "      <td>-7.083953e-02</td>\n",
       "      <td>-5.295979e-02</td>\n",
       "      <td>5.600000</td>\n",
       "      <td>0.000000</td>\n",
       "    </tr>\n",
       "    <tr>\n",
       "      <th>50%</th>\n",
       "      <td>84692.000000</td>\n",
       "      <td>1.810880e-02</td>\n",
       "      <td>6.548556e-02</td>\n",
       "      <td>1.798463e-01</td>\n",
       "      <td>-1.984653e-02</td>\n",
       "      <td>-5.433583e-02</td>\n",
       "      <td>-2.741871e-01</td>\n",
       "      <td>4.010308e-02</td>\n",
       "      <td>2.235804e-02</td>\n",
       "      <td>-5.142873e-02</td>\n",
       "      <td>...</td>\n",
       "      <td>-2.945017e-02</td>\n",
       "      <td>6.781943e-03</td>\n",
       "      <td>-1.119293e-02</td>\n",
       "      <td>4.097606e-02</td>\n",
       "      <td>1.659350e-02</td>\n",
       "      <td>-5.213911e-02</td>\n",
       "      <td>1.342146e-03</td>\n",
       "      <td>1.124383e-02</td>\n",
       "      <td>22.000000</td>\n",
       "      <td>0.000000</td>\n",
       "    </tr>\n",
       "    <tr>\n",
       "      <th>75%</th>\n",
       "      <td>139320.500000</td>\n",
       "      <td>1.315642e+00</td>\n",
       "      <td>8.037239e-01</td>\n",
       "      <td>1.027196e+00</td>\n",
       "      <td>7.433413e-01</td>\n",
       "      <td>6.119264e-01</td>\n",
       "      <td>3.985649e-01</td>\n",
       "      <td>5.704361e-01</td>\n",
       "      <td>3.273459e-01</td>\n",
       "      <td>5.971390e-01</td>\n",
       "      <td>...</td>\n",
       "      <td>1.863772e-01</td>\n",
       "      <td>5.285536e-01</td>\n",
       "      <td>1.476421e-01</td>\n",
       "      <td>4.395266e-01</td>\n",
       "      <td>3.507156e-01</td>\n",
       "      <td>2.409522e-01</td>\n",
       "      <td>9.104512e-02</td>\n",
       "      <td>7.827995e-02</td>\n",
       "      <td>77.165000</td>\n",
       "      <td>0.000000</td>\n",
       "    </tr>\n",
       "    <tr>\n",
       "      <th>max</th>\n",
       "      <td>172792.000000</td>\n",
       "      <td>2.454930e+00</td>\n",
       "      <td>2.205773e+01</td>\n",
       "      <td>9.382558e+00</td>\n",
       "      <td>1.687534e+01</td>\n",
       "      <td>3.480167e+01</td>\n",
       "      <td>7.330163e+01</td>\n",
       "      <td>1.205895e+02</td>\n",
       "      <td>2.000721e+01</td>\n",
       "      <td>1.559499e+01</td>\n",
       "      <td>...</td>\n",
       "      <td>2.720284e+01</td>\n",
       "      <td>1.050309e+01</td>\n",
       "      <td>2.252841e+01</td>\n",
       "      <td>4.584549e+00</td>\n",
       "      <td>7.519589e+00</td>\n",
       "      <td>3.517346e+00</td>\n",
       "      <td>3.161220e+01</td>\n",
       "      <td>3.384781e+01</td>\n",
       "      <td>25691.160000</td>\n",
       "      <td>1.000000</td>\n",
       "    </tr>\n",
       "  </tbody>\n",
       "</table>\n",
       "<p>8 rows × 31 columns</p>\n",
       "</div>"
      ],
      "text/plain": [
       "                Time            V1            V2            V3            V4  \\\n",
       "count  284807.000000  2.848070e+05  2.848070e+05  2.848070e+05  2.848070e+05   \n",
       "mean    94813.859575  3.919560e-15  5.688174e-16 -8.769071e-15  2.782312e-15   \n",
       "std     47488.145955  1.958696e+00  1.651309e+00  1.516255e+00  1.415869e+00   \n",
       "min         0.000000 -5.640751e+01 -7.271573e+01 -4.832559e+01 -5.683171e+00   \n",
       "25%     54201.500000 -9.203734e-01 -5.985499e-01 -8.903648e-01 -8.486401e-01   \n",
       "50%     84692.000000  1.810880e-02  6.548556e-02  1.798463e-01 -1.984653e-02   \n",
       "75%    139320.500000  1.315642e+00  8.037239e-01  1.027196e+00  7.433413e-01   \n",
       "max    172792.000000  2.454930e+00  2.205773e+01  9.382558e+00  1.687534e+01   \n",
       "\n",
       "                 V5            V6            V7            V8            V9  \\\n",
       "count  2.848070e+05  2.848070e+05  2.848070e+05  2.848070e+05  2.848070e+05   \n",
       "mean  -1.552563e-15  2.010663e-15 -1.694249e-15 -1.927028e-16 -3.137024e-15   \n",
       "std    1.380247e+00  1.332271e+00  1.237094e+00  1.194353e+00  1.098632e+00   \n",
       "min   -1.137433e+02 -2.616051e+01 -4.355724e+01 -7.321672e+01 -1.343407e+01   \n",
       "25%   -6.915971e-01 -7.682956e-01 -5.540759e-01 -2.086297e-01 -6.430976e-01   \n",
       "50%   -5.433583e-02 -2.741871e-01  4.010308e-02  2.235804e-02 -5.142873e-02   \n",
       "75%    6.119264e-01  3.985649e-01  5.704361e-01  3.273459e-01  5.971390e-01   \n",
       "max    3.480167e+01  7.330163e+01  1.205895e+02  2.000721e+01  1.559499e+01   \n",
       "\n",
       "       ...           V21           V22           V23           V24  \\\n",
       "count  ...  2.848070e+05  2.848070e+05  2.848070e+05  2.848070e+05   \n",
       "mean   ...  1.537294e-16  7.959909e-16  5.367590e-16  4.458112e-15   \n",
       "std    ...  7.345240e-01  7.257016e-01  6.244603e-01  6.056471e-01   \n",
       "min    ... -3.483038e+01 -1.093314e+01 -4.480774e+01 -2.836627e+00   \n",
       "25%    ... -2.283949e-01 -5.423504e-01 -1.618463e-01 -3.545861e-01   \n",
       "50%    ... -2.945017e-02  6.781943e-03 -1.119293e-02  4.097606e-02   \n",
       "75%    ...  1.863772e-01  5.285536e-01  1.476421e-01  4.395266e-01   \n",
       "max    ...  2.720284e+01  1.050309e+01  2.252841e+01  4.584549e+00   \n",
       "\n",
       "                V25           V26           V27           V28         Amount  \\\n",
       "count  2.848070e+05  2.848070e+05  2.848070e+05  2.848070e+05  284807.000000   \n",
       "mean   1.453003e-15  1.699104e-15 -3.660161e-16 -1.206049e-16      88.349619   \n",
       "std    5.212781e-01  4.822270e-01  4.036325e-01  3.300833e-01     250.120109   \n",
       "min   -1.029540e+01 -2.604551e+00 -2.256568e+01 -1.543008e+01       0.000000   \n",
       "25%   -3.171451e-01 -3.269839e-01 -7.083953e-02 -5.295979e-02       5.600000   \n",
       "50%    1.659350e-02 -5.213911e-02  1.342146e-03  1.124383e-02      22.000000   \n",
       "75%    3.507156e-01  2.409522e-01  9.104512e-02  7.827995e-02      77.165000   \n",
       "max    7.519589e+00  3.517346e+00  3.161220e+01  3.384781e+01   25691.160000   \n",
       "\n",
       "               Class  \n",
       "count  284807.000000  \n",
       "mean        0.001727  \n",
       "std         0.041527  \n",
       "min         0.000000  \n",
       "25%         0.000000  \n",
       "50%         0.000000  \n",
       "75%         0.000000  \n",
       "max         1.000000  \n",
       "\n",
       "[8 rows x 31 columns]"
      ]
     },
     "execution_count": 6,
     "metadata": {},
     "output_type": "execute_result"
    }
   ],
   "source": [
    "credit_df.describe()"
   ]
  },
  {
   "cell_type": "code",
   "execution_count": 7,
   "metadata": {},
   "outputs": [
    {
     "data": {
      "text/plain": [
       "0    284315\n",
       "1       492\n",
       "Name: Class, dtype: int64"
      ]
     },
     "execution_count": 7,
     "metadata": {},
     "output_type": "execute_result"
    }
   ],
   "source": [
    "credit_df.Class.value_counts()"
   ]
  },
  {
   "cell_type": "code",
   "execution_count": 8,
   "metadata": {},
   "outputs": [],
   "source": [
    "from sklearn.model_selection import train_test_split\n",
    "from sklearn.preprocessing import MinMaxScaler"
   ]
  },
  {
   "cell_type": "code",
   "execution_count": 9,
   "metadata": {},
   "outputs": [],
   "source": [
    "X = credit_df.iloc[:,:-1]\n",
    "Y = credit_df.iloc[:,-1]\n",
    "X_train, X_test, Y_train, Y_test = train_test_split(X,Y, test_size=0.2,random_state=100, stratify=Y)"
   ]
  },
  {
   "cell_type": "code",
   "execution_count": 10,
   "metadata": {},
   "outputs": [
    {
     "data": {
      "text/plain": [
       "0    227451\n",
       "1       394\n",
       "Name: Class, dtype: int64"
      ]
     },
     "execution_count": 10,
     "metadata": {},
     "output_type": "execute_result"
    }
   ],
   "source": [
    "Y_train.value_counts()"
   ]
  },
  {
   "cell_type": "code",
   "execution_count": 11,
   "metadata": {},
   "outputs": [
    {
     "data": {
      "text/plain": [
       "0    56864\n",
       "1       98\n",
       "Name: Class, dtype: int64"
      ]
     },
     "execution_count": 11,
     "metadata": {},
     "output_type": "execute_result"
    }
   ],
   "source": [
    "Y_test.value_counts()"
   ]
  },
  {
   "cell_type": "code",
   "execution_count": 12,
   "metadata": {},
   "outputs": [
    {
     "data": {
      "text/plain": [
       "MinMaxScaler(copy=True, feature_range=(0, 1))"
      ]
     },
     "execution_count": 12,
     "metadata": {},
     "output_type": "execute_result"
    }
   ],
   "source": [
    "mmscale = MinMaxScaler()\n",
    "mmscale.fit(X_train)"
   ]
  },
  {
   "cell_type": "code",
   "execution_count": 13,
   "metadata": {},
   "outputs": [],
   "source": [
    "X_train = mmscale.transform(X_train)"
   ]
  },
  {
   "cell_type": "code",
   "execution_count": 14,
   "metadata": {},
   "outputs": [],
   "source": [
    "X_test = mmscale.transform(X_test)"
   ]
  },
  {
   "cell_type": "markdown",
   "metadata": {},
   "source": [
    "### Creating the model"
   ]
  },
  {
   "cell_type": "code",
   "execution_count": 15,
   "metadata": {},
   "outputs": [],
   "source": [
    "def get_model():\n",
    "    model = Sequential()\n",
    "    model.add(Dense(30,input_shape=(30,), activation='relu'))\n",
    "    model.add(Dense(15, activation='relu'))\n",
    "    model.add(Dense(5, activation='relu'))\n",
    "    model.add(Dense(1, activation='sigmoid'))\n",
    "    print(model.summary())\n",
    "    return model"
   ]
  },
  {
   "cell_type": "code",
   "execution_count": 16,
   "metadata": {},
   "outputs": [
    {
     "name": "stdout",
     "output_type": "stream",
     "text": [
      "Model: \"sequential\"\n",
      "_________________________________________________________________\n",
      "Layer (type)                 Output Shape              Param #   \n",
      "=================================================================\n",
      "dense (Dense)                (None, 30)                930       \n",
      "_________________________________________________________________\n",
      "dense_1 (Dense)              (None, 15)                465       \n",
      "_________________________________________________________________\n",
      "dense_2 (Dense)              (None, 5)                 80        \n",
      "_________________________________________________________________\n",
      "dense_3 (Dense)              (None, 1)                 6         \n",
      "=================================================================\n",
      "Total params: 1,481\n",
      "Trainable params: 1,481\n",
      "Non-trainable params: 0\n",
      "_________________________________________________________________\n",
      "None\n"
     ]
    }
   ],
   "source": [
    "from tensorflow.keras import backend as K\n",
    "\n",
    "def recall_m(y_true, y_pred):\n",
    "    true_positives = K.sum(K.round(K.clip(y_true * y_pred, 0, 1)))\n",
    "    possible_positives = K.sum(K.round(K.clip(y_true, 0, 1)))\n",
    "    recall = true_positives / (possible_positives + K.epsilon())\n",
    "    return recall\n",
    "\n",
    "def precision_m(y_true, y_pred):\n",
    "    true_positives = K.sum(K.round(K.clip(y_true * y_pred, 0, 1)))\n",
    "    predicted_positives = K.sum(K.round(K.clip(y_pred, 0, 1)))\n",
    "    precision = true_positives / (predicted_positives + K.epsilon())\n",
    "    return precision\n",
    "\n",
    "def f1_m(y_true, y_pred):\n",
    "    precision = precision_m(y_true, y_pred)\n",
    "    recall = recall_m(y_true, y_pred)\n",
    "    return 2*((precision*recall)/(precision+recall+K.epsilon()))\n",
    "\n",
    "# get the model\n",
    "model = get_model()\n",
    "\n",
    "# compile the model\n",
    "model.compile(optimizer='RMSProp', loss='binary_crossentropy', metrics=['acc',f1_m,precision_m, recall_m])"
   ]
  },
  {
   "cell_type": "code",
   "execution_count": 17,
   "metadata": {},
   "outputs": [
    {
     "name": "stdout",
     "output_type": "stream",
     "text": [
      "Epoch 1/50\n",
      "206/206 [==============================] - 1s 2ms/step - loss: 0.0619 - acc: 0.9906 - f1_m: 0.0000e+00 - precision_m: 0.0000e+00 - recall_m: 0.0000e+00 - val_loss: 0.0105 - val_acc: 0.9983 - val_f1_m: 0.0000e+00 - val_precision_m: 0.0000e+00 - val_recall_m: 0.0000e+00\n",
      "Epoch 2/50\n",
      "206/206 [==============================] - 0s 1ms/step - loss: 0.0091 - acc: 0.9983 - f1_m: 0.0000e+00 - precision_m: 0.0000e+00 - recall_m: 0.0000e+00 - val_loss: 0.0069 - val_acc: 0.9983 - val_f1_m: 0.0000e+00 - val_precision_m: 0.0000e+00 - val_recall_m: 0.0000e+00\n",
      "Epoch 3/50\n",
      "206/206 [==============================] - 0s 1ms/step - loss: 0.0059 - acc: 0.9986 - f1_m: 0.2063 - precision_m: 0.2743 - recall_m: 0.1790 - val_loss: 0.0048 - val_acc: 0.9988 - val_f1_m: 0.3304 - val_precision_m: 0.4783 - val_recall_m: 0.2768\n",
      "Epoch 4/50\n",
      "206/206 [==============================] - 0s 1ms/step - loss: 0.0043 - acc: 0.9991 - f1_m: 0.4675 - precision_m: 0.5687 - recall_m: 0.4305 - val_loss: 0.0038 - val_acc: 0.9992 - val_f1_m: 0.4848 - val_precision_m: 0.5797 - val_recall_m: 0.4391\n",
      "Epoch 5/50\n",
      "206/206 [==============================] - 0s 1ms/step - loss: 0.0037 - acc: 0.9992 - f1_m: 0.5660 - precision_m: 0.6265 - recall_m: 0.5549 - val_loss: 0.0037 - val_acc: 0.9993 - val_f1_m: 0.5413 - val_precision_m: 0.6232 - val_recall_m: 0.4971\n",
      "Epoch 6/50\n",
      "206/206 [==============================] - 0s 1ms/step - loss: 0.0035 - acc: 0.9993 - f1_m: 0.5964 - precision_m: 0.6536 - recall_m: 0.5828 - val_loss: 0.0033 - val_acc: 0.9995 - val_f1_m: 0.5923 - val_precision_m: 0.6232 - val_recall_m: 0.5710\n",
      "Epoch 7/50\n",
      "206/206 [==============================] - 0s 1ms/step - loss: 0.0034 - acc: 0.9993 - f1_m: 0.5859 - precision_m: 0.6339 - recall_m: 0.5725 - val_loss: 0.0034 - val_acc: 0.9993 - val_f1_m: 0.5543 - val_precision_m: 0.6232 - val_recall_m: 0.5116\n",
      "Epoch 8/50\n",
      "206/206 [==============================] - 0s 1ms/step - loss: 0.0034 - acc: 0.9994 - f1_m: 0.6279 - precision_m: 0.6601 - recall_m: 0.6250 - val_loss: 0.0033 - val_acc: 0.9994 - val_f1_m: 0.5691 - val_precision_m: 0.6232 - val_recall_m: 0.5348\n",
      "Epoch 9/50\n",
      "206/206 [==============================] - 0s 1ms/step - loss: 0.0033 - acc: 0.9994 - f1_m: 0.6220 - precision_m: 0.6691 - recall_m: 0.6113 - val_loss: 0.0033 - val_acc: 0.9994 - val_f1_m: 0.5604 - val_precision_m: 0.6232 - val_recall_m: 0.5203\n",
      "Epoch 10/50\n",
      "206/206 [==============================] - 0s 990us/step - loss: 0.0033 - acc: 0.9994 - f1_m: 0.6439 - precision_m: 0.6902 - recall_m: 0.6359 - val_loss: 0.0032 - val_acc: 0.9995 - val_f1_m: 0.5923 - val_precision_m: 0.6232 - val_recall_m: 0.5710\n",
      "Epoch 11/50\n",
      "206/206 [==============================] - 0s 958us/step - loss: 0.0032 - acc: 0.9994 - f1_m: 0.6260 - precision_m: 0.6783 - recall_m: 0.6189 - val_loss: 0.0033 - val_acc: 0.9995 - val_f1_m: 0.5919 - val_precision_m: 0.6268 - val_recall_m: 0.5710\n",
      "Epoch 12/50\n",
      "206/206 [==============================] - 0s 955us/step - loss: 0.0032 - acc: 0.9994 - f1_m: 0.6221 - precision_m: 0.6686 - recall_m: 0.6155 - val_loss: 0.0032 - val_acc: 0.9996 - val_f1_m: 0.6006 - val_precision_m: 0.6268 - val_recall_m: 0.5855\n",
      "Epoch 13/50\n",
      "206/206 [==============================] - 0s 978us/step - loss: 0.0032 - acc: 0.9994 - f1_m: 0.6723 - precision_m: 0.7137 - recall_m: 0.6752 - val_loss: 0.0032 - val_acc: 0.9996 - val_f1_m: 0.6006 - val_precision_m: 0.6268 - val_recall_m: 0.5855\n",
      "Epoch 14/50\n",
      "206/206 [==============================] - 0s 1ms/step - loss: 0.0032 - acc: 0.9994 - f1_m: 0.6272 - precision_m: 0.6655 - recall_m: 0.6312 - val_loss: 0.0032 - val_acc: 0.9996 - val_f1_m: 0.6006 - val_precision_m: 0.6268 - val_recall_m: 0.5855\n",
      "Epoch 15/50\n",
      "206/206 [==============================] - 0s 971us/step - loss: 0.0032 - acc: 0.9994 - f1_m: 0.6457 - precision_m: 0.6853 - recall_m: 0.6433 - val_loss: 0.0033 - val_acc: 0.9996 - val_f1_m: 0.6006 - val_precision_m: 0.6268 - val_recall_m: 0.5855\n",
      "Epoch 16/50\n",
      "206/206 [==============================] - 0s 975us/step - loss: 0.0032 - acc: 0.9994 - f1_m: 0.6555 - precision_m: 0.7039 - recall_m: 0.6502 - val_loss: 0.0032 - val_acc: 0.9995 - val_f1_m: 0.5948 - val_precision_m: 0.6123 - val_recall_m: 0.5855\n",
      "Epoch 17/50\n",
      "206/206 [==============================] - 0s 994us/step - loss: 0.0032 - acc: 0.9994 - f1_m: 0.6754 - precision_m: 0.7151 - recall_m: 0.6714 - val_loss: 0.0032 - val_acc: 0.9996 - val_f1_m: 0.6006 - val_precision_m: 0.6268 - val_recall_m: 0.5855\n",
      "Epoch 18/50\n",
      "206/206 [==============================] - 0s 980us/step - loss: 0.0032 - acc: 0.9994 - f1_m: 0.6529 - precision_m: 0.6871 - recall_m: 0.6547 - val_loss: 0.0032 - val_acc: 0.9996 - val_f1_m: 0.6006 - val_precision_m: 0.6268 - val_recall_m: 0.5855\n",
      "Epoch 19/50\n",
      "206/206 [==============================] - 0s 991us/step - loss: 0.0032 - acc: 0.9994 - f1_m: 0.6458 - precision_m: 0.6904 - recall_m: 0.6392 - val_loss: 0.0032 - val_acc: 0.9995 - val_f1_m: 0.5919 - val_precision_m: 0.6268 - val_recall_m: 0.5710\n",
      "Epoch 20/50\n",
      "206/206 [==============================] - 0s 986us/step - loss: 0.0032 - acc: 0.9994 - f1_m: 0.6366 - precision_m: 0.6686 - recall_m: 0.6368 - val_loss: 0.0032 - val_acc: 0.9995 - val_f1_m: 0.5948 - val_precision_m: 0.6123 - val_recall_m: 0.5855\n",
      "Epoch 21/50\n",
      "206/206 [==============================] - 0s 1ms/step - loss: 0.0031 - acc: 0.9994 - f1_m: 0.6536 - precision_m: 0.6978 - recall_m: 0.6511 - val_loss: 0.0031 - val_acc: 0.9996 - val_f1_m: 0.6006 - val_precision_m: 0.6268 - val_recall_m: 0.5855\n",
      "Epoch 22/50\n",
      "206/206 [==============================] - 0s 1ms/step - loss: 0.0032 - acc: 0.9994 - f1_m: 0.6639 - precision_m: 0.7083 - recall_m: 0.6592 - val_loss: 0.0032 - val_acc: 0.9996 - val_f1_m: 0.6006 - val_precision_m: 0.6268 - val_recall_m: 0.5855\n",
      "Epoch 23/50\n",
      "206/206 [==============================] - 0s 952us/step - loss: 0.0032 - acc: 0.9994 - f1_m: 0.6364 - precision_m: 0.6691 - recall_m: 0.6426 - val_loss: 0.0032 - val_acc: 0.9995 - val_f1_m: 0.5948 - val_precision_m: 0.6123 - val_recall_m: 0.5855\n",
      "Epoch 24/50\n",
      "206/206 [==============================] - 0s 1ms/step - loss: 0.0032 - acc: 0.9994 - f1_m: 0.6487 - precision_m: 0.6792 - recall_m: 0.6537 - val_loss: 0.0044 - val_acc: 0.9992 - val_f1_m: 0.5694 - val_precision_m: 0.5659 - val_recall_m: 0.5855\n",
      "Epoch 25/50\n",
      "206/206 [==============================] - 0s 989us/step - loss: 0.0032 - acc: 0.9994 - f1_m: 0.6259 - precision_m: 0.6582 - recall_m: 0.6259 - val_loss: 0.0031 - val_acc: 0.9995 - val_f1_m: 0.5948 - val_precision_m: 0.6123 - val_recall_m: 0.5855\n",
      "Epoch 26/50\n",
      "206/206 [==============================] - 0s 983us/step - loss: 0.0032 - acc: 0.9994 - f1_m: 0.6200 - precision_m: 0.6483 - recall_m: 0.6323 - val_loss: 0.0032 - val_acc: 0.9996 - val_f1_m: 0.6006 - val_precision_m: 0.6268 - val_recall_m: 0.5855\n",
      "Epoch 27/50\n",
      "206/206 [==============================] - 0s 994us/step - loss: 0.0031 - acc: 0.9994 - f1_m: 0.6298 - precision_m: 0.6635 - recall_m: 0.6295 - val_loss: 0.0032 - val_acc: 0.9996 - val_f1_m: 0.6006 - val_precision_m: 0.6268 - val_recall_m: 0.5855\n",
      "Epoch 28/50\n",
      "206/206 [==============================] - 0s 972us/step - loss: 0.0031 - acc: 0.9994 - f1_m: 0.6344 - precision_m: 0.6707 - recall_m: 0.6365 - val_loss: 0.0032 - val_acc: 0.9996 - val_f1_m: 0.6006 - val_precision_m: 0.6268 - val_recall_m: 0.5855\n",
      "Epoch 29/50\n",
      "206/206 [==============================] - 0s 986us/step - loss: 0.0031 - acc: 0.9994 - f1_m: 0.6261 - precision_m: 0.6591 - recall_m: 0.6288 - val_loss: 0.0031 - val_acc: 0.9995 - val_f1_m: 0.5948 - val_precision_m: 0.6123 - val_recall_m: 0.5855\n",
      "Epoch 30/50\n",
      "206/206 [==============================] - 0s 956us/step - loss: 0.0031 - acc: 0.9994 - f1_m: 0.6246 - precision_m: 0.6693 - recall_m: 0.6171 - val_loss: 0.0032 - val_acc: 0.9996 - val_f1_m: 0.6006 - val_precision_m: 0.6268 - val_recall_m: 0.5855\n",
      "Epoch 31/50\n",
      "206/206 [==============================] - 0s 958us/step - loss: 0.0031 - acc: 0.9994 - f1_m: 0.6338 - precision_m: 0.6772 - recall_m: 0.6296 - val_loss: 0.0031 - val_acc: 0.9995 - val_f1_m: 0.5948 - val_precision_m: 0.6123 - val_recall_m: 0.5855\n",
      "Epoch 32/50\n",
      "206/206 [==============================] - 0s 955us/step - loss: 0.0031 - acc: 0.9994 - f1_m: 0.6416 - precision_m: 0.6742 - recall_m: 0.6385 - val_loss: 0.0032 - val_acc: 0.9996 - val_f1_m: 0.6006 - val_precision_m: 0.6268 - val_recall_m: 0.5855\n",
      "Epoch 33/50\n",
      "206/206 [==============================] - 0s 967us/step - loss: 0.0031 - acc: 0.9994 - f1_m: 0.6233 - precision_m: 0.6612 - recall_m: 0.6225 - val_loss: 0.0031 - val_acc: 0.9996 - val_f1_m: 0.6006 - val_precision_m: 0.6268 - val_recall_m: 0.5855\n",
      "Epoch 34/50\n",
      "206/206 [==============================] - 0s 982us/step - loss: 0.0031 - acc: 0.9994 - f1_m: 0.6326 - precision_m: 0.6681 - recall_m: 0.6341 - val_loss: 0.0031 - val_acc: 0.9995 - val_f1_m: 0.5948 - val_precision_m: 0.6123 - val_recall_m: 0.5855\n",
      "Epoch 35/50\n",
      "206/206 [==============================] - 0s 974us/step - loss: 0.0031 - acc: 0.9994 - f1_m: 0.6433 - precision_m: 0.6782 - recall_m: 0.6424 - val_loss: 0.0032 - val_acc: 0.9996 - val_f1_m: 0.6006 - val_precision_m: 0.6268 - val_recall_m: 0.5855\n",
      "Epoch 36/50\n",
      "206/206 [==============================] - 0s 959us/step - loss: 0.0030 - acc: 0.9994 - f1_m: 0.6793 - precision_m: 0.7096 - recall_m: 0.6846 - val_loss: 0.0031 - val_acc: 0.9995 - val_f1_m: 0.5948 - val_precision_m: 0.6123 - val_recall_m: 0.5855\n",
      "Epoch 37/50\n",
      "206/206 [==============================] - 0s 967us/step - loss: 0.0030 - acc: 0.9994 - f1_m: 0.6197 - precision_m: 0.6499 - recall_m: 0.6180 - val_loss: 0.0031 - val_acc: 0.9995 - val_f1_m: 0.5948 - val_precision_m: 0.6123 - val_recall_m: 0.5855\n",
      "Epoch 38/50\n",
      "206/206 [==============================] - 0s 934us/step - loss: 0.0030 - acc: 0.9994 - f1_m: 0.6526 - precision_m: 0.6859 - recall_m: 0.6515 - val_loss: 0.0031 - val_acc: 0.9995 - val_f1_m: 0.5948 - val_precision_m: 0.6123 - val_recall_m: 0.5855\n",
      "Epoch 39/50\n",
      "206/206 [==============================] - 0s 992us/step - loss: 0.0031 - acc: 0.9994 - f1_m: 0.6095 - precision_m: 0.6453 - recall_m: 0.6078 - val_loss: 0.0031 - val_acc: 0.9995 - val_f1_m: 0.5948 - val_precision_m: 0.6123 - val_recall_m: 0.5855\n",
      "Epoch 40/50\n",
      "206/206 [==============================] - 0s 963us/step - loss: 0.0031 - acc: 0.9994 - f1_m: 0.6605 - precision_m: 0.6925 - recall_m: 0.6704 - val_loss: 0.0031 - val_acc: 0.9995 - val_f1_m: 0.5948 - val_precision_m: 0.6123 - val_recall_m: 0.5855\n",
      "Epoch 41/50\n",
      "206/206 [==============================] - 0s 935us/step - loss: 0.0031 - acc: 0.9994 - f1_m: 0.6589 - precision_m: 0.6917 - recall_m: 0.6624 - val_loss: 0.0030 - val_acc: 0.9996 - val_f1_m: 0.6006 - val_precision_m: 0.6268 - val_recall_m: 0.5855\n",
      "Epoch 42/50\n",
      "206/206 [==============================] - 0s 958us/step - loss: 0.0031 - acc: 0.9994 - f1_m: 0.6548 - precision_m: 0.6955 - recall_m: 0.6464 - val_loss: 0.0030 - val_acc: 0.9995 - val_f1_m: 0.5948 - val_precision_m: 0.6123 - val_recall_m: 0.5855\n",
      "Epoch 43/50\n",
      "206/206 [==============================] - 0s 958us/step - loss: 0.0031 - acc: 0.9994 - f1_m: 0.6406 - precision_m: 0.6837 - recall_m: 0.6422 - val_loss: 0.0031 - val_acc: 0.9996 - val_f1_m: 0.6006 - val_precision_m: 0.6268 - val_recall_m: 0.5855\n",
      "Epoch 44/50\n",
      "206/206 [==============================] - 0s 989us/step - loss: 0.0030 - acc: 0.9994 - f1_m: 0.6369 - precision_m: 0.6727 - recall_m: 0.6377 - val_loss: 0.0030 - val_acc: 0.9995 - val_f1_m: 0.5948 - val_precision_m: 0.6123 - val_recall_m: 0.5855\n",
      "Epoch 45/50\n",
      "206/206 [==============================] - 0s 958us/step - loss: 0.0030 - acc: 0.9994 - f1_m: 0.6640 - precision_m: 0.6968 - recall_m: 0.6667 - val_loss: 0.0031 - val_acc: 0.9995 - val_f1_m: 0.5948 - val_precision_m: 0.6123 - val_recall_m: 0.5855\n",
      "Epoch 46/50\n",
      "206/206 [==============================] - 0s 959us/step - loss: 0.0030 - acc: 0.9994 - f1_m: 0.6687 - precision_m: 0.6943 - recall_m: 0.6820 - val_loss: 0.0032 - val_acc: 0.9996 - val_f1_m: 0.6006 - val_precision_m: 0.6268 - val_recall_m: 0.5855\n",
      "Epoch 47/50\n",
      "206/206 [==============================] - 0s 954us/step - loss: 0.0030 - acc: 0.9994 - f1_m: 0.6352 - precision_m: 0.6675 - recall_m: 0.6409 - val_loss: 0.0031 - val_acc: 0.9996 - val_f1_m: 0.6006 - val_precision_m: 0.6268 - val_recall_m: 0.5855\n",
      "Epoch 48/50\n",
      "206/206 [==============================] - 0s 951us/step - loss: 0.0030 - acc: 0.9994 - f1_m: 0.6078 - precision_m: 0.6425 - recall_m: 0.6045 - val_loss: 0.0031 - val_acc: 0.9995 - val_f1_m: 0.5948 - val_precision_m: 0.6123 - val_recall_m: 0.5855\n",
      "Epoch 49/50\n",
      "206/206 [==============================] - 0s 968us/step - loss: 0.0030 - acc: 0.9994 - f1_m: 0.6666 - precision_m: 0.6975 - recall_m: 0.6693 - val_loss: 0.0031 - val_acc: 0.9996 - val_f1_m: 0.6006 - val_precision_m: 0.6268 - val_recall_m: 0.5855\n",
      "Epoch 50/50\n",
      "206/206 [==============================] - 0s 966us/step - loss: 0.0030 - acc: 0.9994 - f1_m: 0.6567 - precision_m: 0.7018 - recall_m: 0.6568 - val_loss: 0.0030 - val_acc: 0.9996 - val_f1_m: 0.6006 - val_precision_m: 0.6268 - val_recall_m: 0.5855\n"
     ]
    }
   ],
   "source": [
    "# fit the model\n",
    "history = model.fit(X_train, Y_train, validation_split=0.1, epochs=50, verbose=1,batch_size=1000)\n",
    "\n",
    "# evaluate the model\n",
    "loss, accuracy, f1_score, precision, recall = model.evaluate(X_test, Y_test, verbose=0)"
   ]
  },
  {
   "cell_type": "code",
   "execution_count": 18,
   "metadata": {},
   "outputs": [
    {
     "data": {
      "image/png": "[encoded data removed]",
      "text/plain": [
       "<Figure size 432x288 with 1 Axes>"
      ]
     },
     "metadata": {
      "image/png": {
       "height": 277,
       "width": 431
      },
      "needs_background": "light"
     },
     "output_type": "display_data"
    }
   ],
   "source": [
    "# Plot training & validation loss values\n",
    "plt.plot(history.history['loss'])\n",
    "plt.plot(history.history['val_loss'])\n",
    "plt.title('Model loss')\n",
    "plt.ylabel('Loss')\n",
    "plt.xlabel('Epoch')\n",
    "plt.legend(['Train', 'Test'], loc='upper left')\n",
    "plt.show()"
   ]
  },
  {
   "cell_type": "code",
   "execution_count": 19,
   "metadata": {},
   "outputs": [],
   "source": [
    "def plot_cm(labels, predictions, p=0.5):\n",
    "    cm = confusion_matrix(labels, predictions > p)\n",
    "    plt.figure(figsize=(5,5))\n",
    "    sns.heatmap(cm, annot=True, fmt=\"d\")\n",
    "    plt.title('Confusion matrix @{:.2f}'.format(p))\n",
    "    plt.ylabel('Actual label')\n",
    "    plt.xlabel('Predicted label')\n",
    "\n",
    "    print('Legitimate Transactions Detected (True Negatives): ', cm[0][0])\n",
    "    print('Legitimate Transactions Incorrectly Detected (False Positives): ', cm[0][1])\n",
    "    print('Fraudulent Transactions Missed (False Negatives): ', cm[1][0])\n",
    "    print('Fraudulent Transactions Detected (True Positives): ', cm[1][1])\n",
    "    print('Total Fraudulent Transactions: ', np.sum(cm[1]))"
   ]
  },
  {
   "cell_type": "code",
   "execution_count": 20,
   "metadata": {},
   "outputs": [],
   "source": [
    "train_predictions_baseline = model.predict(X_train, batch_size=1000)\n",
    "test_predictions_baseline = model.predict(X_test, batch_size=1000)"
   ]
  },
  {
   "cell_type": "code",
   "execution_count": 21,
   "metadata": {},
   "outputs": [],
   "source": [
    "import sklearn\n",
    "from sklearn.metrics import confusion_matrix, roc_auc_score, classification_report, roc_curve"
   ]
  },
  {
   "cell_type": "code",
   "execution_count": 22,
   "metadata": {},
   "outputs": [
    {
     "name": "stdout",
     "output_type": "stream",
     "text": [
      "Legitimate Transactions Detected (True Negatives):  56852\n",
      "Legitimate Transactions Incorrectly Detected (False Positives):  12\n",
      "Fraudulent Transactions Missed (False Negatives):  24\n",
      "Fraudulent Transactions Detected (True Positives):  74\n",
      "Total Fraudulent Transactions:  98\n"
     ]
    },
    {
     "data": {
      "image/png": "[encoded data removed]",
      "text/plain": [
       "<Figure size 360x360 with 2 Axes>"
      ]
     },
     "metadata": {
      "image/png": {
       "height": 332,
       "width": 358
      },
      "needs_background": "light"
     },
     "output_type": "display_data"
    }
   ],
   "source": [
    "plot_cm(Y_test, test_predictions_baseline)"
   ]
  },
  {
   "cell_type": "code",
   "execution_count": 23,
   "metadata": {},
   "outputs": [
    {
     "name": "stdout",
     "output_type": "stream",
     "text": [
      "              precision    recall  f1-score   support\n",
      "\n",
      "           0       1.00      1.00      1.00     56864\n",
      "           1       0.86      0.76      0.80        98\n",
      "\n",
      "    accuracy                           1.00     56962\n",
      "   macro avg       0.93      0.88      0.90     56962\n",
      "weighted avg       1.00      1.00      1.00     56962\n",
      "\n"
     ]
    }
   ],
   "source": [
    "print(classification_report(Y_test,test_predictions_baseline>0.5))"
   ]
  },
  {
   "cell_type": "code",
   "execution_count": 24,
   "metadata": {},
   "outputs": [
    {
     "name": "stdout",
     "output_type": "stream",
     "text": [
      "0.8774455054953889\n"
     ]
    }
   ],
   "source": [
    "print(roc_auc_score(Y_test,test_predictions_baseline>0.5))"
   ]
  },
  {
   "cell_type": "markdown",
   "metadata": {},
   "source": [
    "### Handling class imbalance"
   ]
  },
  {
   "cell_type": "code",
   "execution_count": 25,
   "metadata": {},
   "outputs": [
    {
     "name": "stdout",
     "output_type": "stream",
     "text": [
      "Weight for class 0: 0.50\n",
      "Weight for class 1: 289.44\n"
     ]
    }
   ],
   "source": [
    "# Scaling by total/2 helps keep the loss to a similar magnitude.\n",
    "# The sum of the weights of all examples stays the same.\n",
    "neg, pos = np.bincount(credit_df['Class'])\n",
    "total = neg + pos\n",
    "weight_for_0 = (1 / neg)*(total)/2.0 \n",
    "weight_for_1 = (1 / pos)*(total)/2.0\n",
    "\n",
    "class_weight = {0: weight_for_0, 1: weight_for_1}\n",
    "\n",
    "print('Weight for class 0: {:.2f}'.format(weight_for_0))\n",
    "print('Weight for class 1: {:.2f}'.format(weight_for_1))"
   ]
  },
  {
   "cell_type": "code",
   "execution_count": 26,
   "metadata": {},
   "outputs": [
    {
     "name": "stdout",
     "output_type": "stream",
     "text": [
      "Model: \"sequential_1\"\n",
      "_________________________________________________________________\n",
      "Layer (type)                 Output Shape              Param #   \n",
      "=================================================================\n",
      "dense_4 (Dense)              (None, 30)                930       \n",
      "_________________________________________________________________\n",
      "dense_5 (Dense)              (None, 15)                465       \n",
      "_________________________________________________________________\n",
      "dense_6 (Dense)              (None, 5)                 80        \n",
      "_________________________________________________________________\n",
      "dense_7 (Dense)              (None, 1)                 6         \n",
      "=================================================================\n",
      "Total params: 1,481\n",
      "Trainable params: 1,481\n",
      "Non-trainable params: 0\n",
      "_________________________________________________________________\n",
      "None\n",
      "WARNING:tensorflow:From /Users/karishmajoshi/.local/lib/python3.8/site-packages/tensorflow/python/ops/array_ops.py:5043: calling gather (from tensorflow.python.ops.array_ops) with validate_indices is deprecated and will be removed in a future version.\n",
      "Instructions for updating:\n",
      "The `validate_indices` argument has no effect. Indices are always validated on CPU and never validated on GPU.\n",
      "Epoch 1/50\n",
      "206/206 [==============================] - 1s 2ms/step - loss: 0.6354 - acc: 0.9987 - f1_m: 0.3249 - precision_m: 0.4086 - recall_m: 0.2935 - val_loss: 0.4445 - val_acc: 0.9990 - val_f1_m: 0.5419 - val_precision_m: 0.5507 - val_recall_m: 0.5623\n",
      "Epoch 2/50\n",
      "206/206 [==============================] - 0s 1ms/step - loss: 0.4421 - acc: 0.9976 - f1_m: 0.5040 - precision_m: 0.5105 - recall_m: 0.5946 - val_loss: 0.2021 - val_acc: 0.9991 - val_f1_m: 0.5510 - val_precision_m: 0.5616 - val_recall_m: 0.5623\n",
      "Epoch 3/50\n",
      "206/206 [==============================] - 0s 1ms/step - loss: 0.2929 - acc: 0.9928 - f1_m: 0.4424 - precision_m: 0.3923 - recall_m: 0.6840 - val_loss: 0.1300 - val_acc: 0.9983 - val_f1_m: 0.4911 - val_precision_m: 0.4522 - val_recall_m: 0.5855\n",
      "Epoch 4/50\n",
      "206/206 [==============================] - 0s 1ms/step - loss: 0.2349 - acc: 0.9866 - f1_m: 0.3454 - precision_m: 0.2744 - recall_m: 0.7157 - val_loss: 0.1387 - val_acc: 0.9949 - val_f1_m: 0.3308 - val_precision_m: 0.2524 - val_recall_m: 0.5855\n",
      "Epoch 5/50\n",
      "206/206 [==============================] - 0s 1ms/step - loss: 0.2163 - acc: 0.9783 - f1_m: 0.2996 - precision_m: 0.2320 - recall_m: 0.6991 - val_loss: 0.0731 - val_acc: 0.9972 - val_f1_m: 0.4323 - val_precision_m: 0.3812 - val_recall_m: 0.5855\n",
      "Epoch 6/50\n",
      "206/206 [==============================] - 0s 1ms/step - loss: 0.2053 - acc: 0.9766 - f1_m: 0.2623 - precision_m: 0.1934 - recall_m: 0.7096 - val_loss: 0.0707 - val_acc: 0.9960 - val_f1_m: 0.3731 - val_precision_m: 0.2965 - val_recall_m: 0.5855\n",
      "Epoch 7/50\n",
      "206/206 [==============================] - 0s 1ms/step - loss: 0.2021 - acc: 0.9746 - f1_m: 0.2348 - precision_m: 0.1644 - recall_m: 0.7441 - val_loss: 0.0352 - val_acc: 0.9978 - val_f1_m: 0.4595 - val_precision_m: 0.4124 - val_recall_m: 0.5855\n",
      "Epoch 8/50\n",
      "206/206 [==============================] - 0s 1ms/step - loss: 0.1971 - acc: 0.9776 - f1_m: 0.2367 - precision_m: 0.1671 - recall_m: 0.7323 - val_loss: 0.0756 - val_acc: 0.9929 - val_f1_m: 0.2745 - val_precision_m: 0.1893 - val_recall_m: 0.5855\n",
      "Epoch 9/50\n",
      "206/206 [==============================] - 0s 1ms/step - loss: 0.1949 - acc: 0.9774 - f1_m: 0.2280 - precision_m: 0.1607 - recall_m: 0.7227 - val_loss: 0.0545 - val_acc: 0.9961 - val_f1_m: 0.3812 - val_precision_m: 0.3031 - val_recall_m: 0.5855\n",
      "Epoch 10/50\n",
      "206/206 [==============================] - 0s 1ms/step - loss: 0.1857 - acc: 0.9777 - f1_m: 0.2503 - precision_m: 0.1769 - recall_m: 0.7256 - val_loss: 0.0308 - val_acc: 0.9973 - val_f1_m: 0.4429 - val_precision_m: 0.3911 - val_recall_m: 0.5855\n",
      "Epoch 11/50\n",
      "206/206 [==============================] - 0s 1ms/step - loss: 0.1973 - acc: 0.9773 - f1_m: 0.2140 - precision_m: 0.1495 - recall_m: 0.7369 - val_loss: 0.1364 - val_acc: 0.9804 - val_f1_m: 0.1290 - val_precision_m: 0.0746 - val_recall_m: 0.6000\n",
      "Epoch 12/50\n",
      "206/206 [==============================] - 0s 1ms/step - loss: 0.1905 - acc: 0.9708 - f1_m: 0.2306 - precision_m: 0.1617 - recall_m: 0.7531 - val_loss: 0.2598 - val_acc: 0.9306 - val_f1_m: 0.0399 - val_precision_m: 0.0208 - val_recall_m: 0.6435\n",
      "Epoch 13/50\n",
      "206/206 [==============================] - 0s 1ms/step - loss: 0.1886 - acc: 0.9732 - f1_m: 0.1948 - precision_m: 0.1313 - recall_m: 0.7109 - val_loss: 0.0677 - val_acc: 0.9941 - val_f1_m: 0.2947 - val_precision_m: 0.2088 - val_recall_m: 0.5855\n",
      "Epoch 14/50\n",
      "206/206 [==============================] - 0s 1ms/step - loss: 0.1865 - acc: 0.9771 - f1_m: 0.2126 - precision_m: 0.1423 - recall_m: 0.7501 - val_loss: 0.0595 - val_acc: 0.9931 - val_f1_m: 0.2731 - val_precision_m: 0.1883 - val_recall_m: 0.5855\n",
      "Epoch 15/50\n",
      "206/206 [==============================] - 0s 1ms/step - loss: 0.1811 - acc: 0.9740 - f1_m: 0.2304 - precision_m: 0.1608 - recall_m: 0.7537 - val_loss: 0.1869 - val_acc: 0.9540 - val_f1_m: 0.0598 - val_precision_m: 0.0318 - val_recall_m: 0.6435\n",
      "Epoch 16/50\n",
      "206/206 [==============================] - 0s 1ms/step - loss: 0.1792 - acc: 0.9701 - f1_m: 0.1980 - precision_m: 0.1290 - recall_m: 0.7564 - val_loss: 0.0795 - val_acc: 0.9889 - val_f1_m: 0.1989 - val_precision_m: 0.1236 - val_recall_m: 0.6000\n",
      "Epoch 17/50\n",
      "206/206 [==============================] - 0s 1ms/step - loss: 0.1848 - acc: 0.9709 - f1_m: 0.1920 - precision_m: 0.1268 - recall_m: 0.7222 - val_loss: 0.0340 - val_acc: 0.9964 - val_f1_m: 0.4033 - val_precision_m: 0.3310 - val_recall_m: 0.5855\n",
      "Epoch 18/50\n",
      "206/206 [==============================] - 0s 1ms/step - loss: 0.1807 - acc: 0.9669 - f1_m: 0.1847 - precision_m: 0.1207 - recall_m: 0.7416 - val_loss: 0.0400 - val_acc: 0.9965 - val_f1_m: 0.4230 - val_precision_m: 0.3582 - val_recall_m: 0.5855\n",
      "Epoch 19/50\n",
      "206/206 [==============================] - 0s 1ms/step - loss: 0.1878 - acc: 0.9742 - f1_m: 0.1989 - precision_m: 0.1300 - recall_m: 0.7497 - val_loss: 0.1807 - val_acc: 0.9541 - val_f1_m: 0.0598 - val_precision_m: 0.0317 - val_recall_m: 0.6435\n",
      "Epoch 20/50\n",
      "206/206 [==============================] - 0s 1ms/step - loss: 0.1821 - acc: 0.9721 - f1_m: 0.1916 - precision_m: 0.1264 - recall_m: 0.7446 - val_loss: 0.0664 - val_acc: 0.9908 - val_f1_m: 0.2287 - val_precision_m: 0.1484 - val_recall_m: 0.6000\n",
      "Epoch 21/50\n",
      "206/206 [==============================] - 0s 1ms/step - loss: 0.1776 - acc: 0.9736 - f1_m: 0.1760 - precision_m: 0.1113 - recall_m: 0.7561 - val_loss: 0.0339 - val_acc: 0.9957 - val_f1_m: 0.3599 - val_precision_m: 0.2756 - val_recall_m: 0.5855\n",
      "Epoch 22/50\n",
      "206/206 [==============================] - 0s 1ms/step - loss: 0.1789 - acc: 0.9731 - f1_m: 0.1965 - precision_m: 0.1329 - recall_m: 0.7554 - val_loss: 0.0499 - val_acc: 0.9938 - val_f1_m: 0.2962 - val_precision_m: 0.2078 - val_recall_m: 0.6000\n",
      "Epoch 23/50\n",
      "206/206 [==============================] - 0s 1ms/step - loss: 0.1774 - acc: 0.9702 - f1_m: 0.2180 - precision_m: 0.1511 - recall_m: 0.7426 - val_loss: 0.0667 - val_acc: 0.9922 - val_f1_m: 0.2575 - val_precision_m: 0.1721 - val_recall_m: 0.6000\n",
      "Epoch 24/50\n",
      "206/206 [==============================] - 0s 1ms/step - loss: 0.1781 - acc: 0.9749 - f1_m: 0.2193 - precision_m: 0.1544 - recall_m: 0.7178 - val_loss: 0.1118 - val_acc: 0.9831 - val_f1_m: 0.1388 - val_precision_m: 0.0800 - val_recall_m: 0.6435\n",
      "Epoch 25/50\n",
      "206/206 [==============================] - 0s 1ms/step - loss: 0.1748 - acc: 0.9736 - f1_m: 0.1949 - precision_m: 0.1255 - recall_m: 0.7690 - val_loss: 0.1061 - val_acc: 0.9818 - val_f1_m: 0.1315 - val_precision_m: 0.0754 - val_recall_m: 0.6435\n",
      "Epoch 26/50\n",
      "206/206 [==============================] - 0s 1ms/step - loss: 0.1770 - acc: 0.9727 - f1_m: 0.2059 - precision_m: 0.1382 - recall_m: 0.7409 - val_loss: 0.0909 - val_acc: 0.9872 - val_f1_m: 0.1719 - val_precision_m: 0.1041 - val_recall_m: 0.6000\n",
      "Epoch 27/50\n",
      "206/206 [==============================] - 0s 1ms/step - loss: 0.1765 - acc: 0.9723 - f1_m: 0.1908 - precision_m: 0.1269 - recall_m: 0.7595 - val_loss: 0.0452 - val_acc: 0.9945 - val_f1_m: 0.3110 - val_precision_m: 0.2226 - val_recall_m: 0.6000\n",
      "Epoch 28/50\n",
      "206/206 [==============================] - 0s 1ms/step - loss: 0.1736 - acc: 0.9720 - f1_m: 0.1869 - precision_m: 0.1179 - recall_m: 0.7864 - val_loss: 0.0629 - val_acc: 0.9904 - val_f1_m: 0.2165 - val_precision_m: 0.1369 - val_recall_m: 0.6000\n",
      "Epoch 29/50\n",
      "206/206 [==============================] - 0s 1ms/step - loss: 0.1802 - acc: 0.9706 - f1_m: 0.1927 - precision_m: 0.1313 - recall_m: 0.7351 - val_loss: 0.0972 - val_acc: 0.9839 - val_f1_m: 0.1467 - val_precision_m: 0.0856 - val_recall_m: 0.6435\n",
      "Epoch 30/50\n",
      "206/206 [==============================] - 0s 1ms/step - loss: 0.1720 - acc: 0.9713 - f1_m: 0.2155 - precision_m: 0.1490 - recall_m: 0.7455 - val_loss: 0.1305 - val_acc: 0.9693 - val_f1_m: 0.0849 - val_precision_m: 0.0462 - val_recall_m: 0.6435\n",
      "Epoch 31/50\n",
      "206/206 [==============================] - 0s 1ms/step - loss: 0.1716 - acc: 0.9681 - f1_m: 0.1958 - precision_m: 0.1314 - recall_m: 0.7689 - val_loss: 0.1668 - val_acc: 0.9512 - val_f1_m: 0.0559 - val_precision_m: 0.0296 - val_recall_m: 0.6435\n",
      "Epoch 32/50\n",
      "206/206 [==============================] - 0s 1ms/step - loss: 0.1753 - acc: 0.9701 - f1_m: 0.1708 - precision_m: 0.1097 - recall_m: 0.7528 - val_loss: 0.0590 - val_acc: 0.9933 - val_f1_m: 0.2772 - val_precision_m: 0.1918 - val_recall_m: 0.6000\n",
      "Epoch 33/50\n",
      "206/206 [==============================] - 0s 1ms/step - loss: 0.1725 - acc: 0.9710 - f1_m: 0.1978 - precision_m: 0.1284 - recall_m: 0.7634 - val_loss: 0.0770 - val_acc: 0.9910 - val_f1_m: 0.2232 - val_precision_m: 0.1425 - val_recall_m: 0.6000\n",
      "Epoch 34/50\n",
      "206/206 [==============================] - 0s 1ms/step - loss: 0.1727 - acc: 0.9724 - f1_m: 0.1867 - precision_m: 0.1253 - recall_m: 0.7459 - val_loss: 0.1023 - val_acc: 0.9829 - val_f1_m: 0.1405 - val_precision_m: 0.0815 - val_recall_m: 0.6435\n",
      "Epoch 35/50\n",
      "206/206 [==============================] - 0s 1ms/step - loss: 0.1598 - acc: 0.9685 - f1_m: 0.2030 - precision_m: 0.1351 - recall_m: 0.7497 - val_loss: 0.0528 - val_acc: 0.9948 - val_f1_m: 0.3190 - val_precision_m: 0.2310 - val_recall_m: 0.6000\n",
      "Epoch 36/50\n",
      "206/206 [==============================] - 0s 1ms/step - loss: 0.1693 - acc: 0.9756 - f1_m: 0.2096 - precision_m: 0.1386 - recall_m: 0.7290 - val_loss: 0.0625 - val_acc: 0.9957 - val_f1_m: 0.3620 - val_precision_m: 0.2752 - val_recall_m: 0.6000\n",
      "Epoch 37/50\n",
      "206/206 [==============================] - 0s 1ms/step - loss: 0.1763 - acc: 0.9710 - f1_m: 0.1750 - precision_m: 0.1115 - recall_m: 0.7300 - val_loss: 0.0939 - val_acc: 0.9824 - val_f1_m: 0.1349 - val_precision_m: 0.0777 - val_recall_m: 0.6435\n",
      "Epoch 38/50\n",
      "206/206 [==============================] - 0s 1ms/step - loss: 0.1723 - acc: 0.9763 - f1_m: 0.2090 - precision_m: 0.1366 - recall_m: 0.7648 - val_loss: 0.0998 - val_acc: 0.9849 - val_f1_m: 0.1580 - val_precision_m: 0.0945 - val_recall_m: 0.6435\n",
      "Epoch 39/50\n",
      "206/206 [==============================] - 0s 1ms/step - loss: 0.1674 - acc: 0.9743 - f1_m: 0.1966 - precision_m: 0.1289 - recall_m: 0.7516 - val_loss: 0.0350 - val_acc: 0.9960 - val_f1_m: 0.3707 - val_precision_m: 0.2909 - val_recall_m: 0.5855\n",
      "Epoch 40/50\n",
      "206/206 [==============================] - 0s 1ms/step - loss: 0.1655 - acc: 0.9727 - f1_m: 0.2112 - precision_m: 0.1450 - recall_m: 0.7752 - val_loss: 0.1412 - val_acc: 0.9634 - val_f1_m: 0.0718 - val_precision_m: 0.0387 - val_recall_m: 0.6435\n",
      "Epoch 41/50\n",
      "206/206 [==============================] - 0s 1ms/step - loss: 0.1723 - acc: 0.9756 - f1_m: 0.1922 - precision_m: 0.1258 - recall_m: 0.7246 - val_loss: 0.0464 - val_acc: 0.9964 - val_f1_m: 0.4127 - val_precision_m: 0.3335 - val_recall_m: 0.6000\n",
      "Epoch 42/50\n",
      "206/206 [==============================] - 0s 1ms/step - loss: 0.1691 - acc: 0.9767 - f1_m: 0.2378 - precision_m: 0.1658 - recall_m: 0.7622 - val_loss: 0.0626 - val_acc: 0.9900 - val_f1_m: 0.2160 - val_precision_m: 0.1370 - val_recall_m: 0.6435\n",
      "Epoch 43/50\n",
      "206/206 [==============================] - 0s 1ms/step - loss: 0.1712 - acc: 0.9669 - f1_m: 0.1916 - precision_m: 0.1295 - recall_m: 0.7581 - val_loss: 0.0655 - val_acc: 0.9905 - val_f1_m: 0.2260 - val_precision_m: 0.1462 - val_recall_m: 0.6435\n",
      "Epoch 44/50\n",
      "206/206 [==============================] - 0s 1ms/step - loss: 0.1673 - acc: 0.9708 - f1_m: 0.2065 - precision_m: 0.1391 - recall_m: 0.7393 - val_loss: 0.0378 - val_acc: 0.9962 - val_f1_m: 0.3999 - val_precision_m: 0.3246 - val_recall_m: 0.6000\n",
      "Epoch 45/50\n",
      "206/206 [==============================] - 0s 1ms/step - loss: 0.1749 - acc: 0.9737 - f1_m: 0.1926 - precision_m: 0.1279 - recall_m: 0.7273 - val_loss: 0.0916 - val_acc: 0.9855 - val_f1_m: 0.1603 - val_precision_m: 0.0956 - val_recall_m: 0.6435\n",
      "Epoch 46/50\n",
      "206/206 [==============================] - 0s 1ms/step - loss: 0.1668 - acc: 0.9765 - f1_m: 0.2373 - precision_m: 0.1681 - recall_m: 0.7636 - val_loss: 0.0669 - val_acc: 0.9909 - val_f1_m: 0.2322 - val_precision_m: 0.1530 - val_recall_m: 0.6000\n",
      "Epoch 47/50\n",
      "206/206 [==============================] - 0s 1ms/step - loss: 0.1723 - acc: 0.9800 - f1_m: 0.2429 - precision_m: 0.1760 - recall_m: 0.7663 - val_loss: 0.1149 - val_acc: 0.9765 - val_f1_m: 0.1060 - val_precision_m: 0.0592 - val_recall_m: 0.6435\n",
      "Epoch 48/50\n",
      "206/206 [==============================] - 0s 1ms/step - loss: 0.1706 - acc: 0.9805 - f1_m: 0.2332 - precision_m: 0.1591 - recall_m: 0.7631 - val_loss: 0.0256 - val_acc: 0.9977 - val_f1_m: 0.4760 - val_precision_m: 0.4412 - val_recall_m: 0.5855\n",
      "Epoch 49/50\n",
      "206/206 [==============================] - 0s 1ms/step - loss: 0.1720 - acc: 0.9769 - f1_m: 0.2142 - precision_m: 0.1483 - recall_m: 0.7370 - val_loss: 0.0364 - val_acc: 0.9974 - val_f1_m: 0.4685 - val_precision_m: 0.4192 - val_recall_m: 0.6000\n",
      "Epoch 50/50\n",
      "206/206 [==============================] - 0s 1ms/step - loss: 0.1649 - acc: 0.9787 - f1_m: 0.2367 - precision_m: 0.1695 - recall_m: 0.7400 - val_loss: 0.0626 - val_acc: 0.9902 - val_f1_m: 0.2153 - val_precision_m: 0.1378 - val_recall_m: 0.6000\n"
     ]
    }
   ],
   "source": [
    "weighted_model = get_model()\n",
    "\n",
    "# compile the model\n",
    "weighted_model.compile(optimizer='RMSProp', loss='binary_crossentropy', metrics=['acc',f1_m,precision_m, recall_m])\n",
    "\n",
    "# fit the model\n",
    "history = weighted_model.fit(X_train, Y_train, validation_split=0.1, epochs=50, verbose=1,batch_size=1000, class_weight=class_weight)\n",
    "\n",
    "# evaluate the model\n",
    "loss, accuracy, f1_score, precision, recall = weighted_model.evaluate(X_test, Y_test, verbose=0)"
   ]
  },
  {
   "cell_type": "code",
   "execution_count": 27,
   "metadata": {},
   "outputs": [
    {
     "data": {
      "image/png": "[encoded data removed]",
      "text/plain": [
       "<Figure size 432x288 with 1 Axes>"
      ]
     },
     "metadata": {
      "image/png": {
       "height": 277,
       "width": 425
      },
      "needs_background": "light"
     },
     "output_type": "display_data"
    }
   ],
   "source": [
    "# Plot training & validation loss values\n",
    "plt.plot(history.history['loss'])\n",
    "plt.plot(history.history['val_loss'])\n",
    "plt.title('Model loss')\n",
    "plt.ylabel('Loss')\n",
    "plt.xlabel('Epoch')\n",
    "plt.legend(['Train', 'Test'], loc='upper left')\n",
    "plt.show()"
   ]
  },
  {
   "cell_type": "code",
   "execution_count": 28,
   "metadata": {},
   "outputs": [],
   "source": [
    "def find_optimal_cutoff(target, predicted):\n",
    "    \"\"\" Find the optimal probability cutoff point for a classification model related to event rate\n",
    "    Parameters\n",
    "    ----------\n",
    "    target : Matrix with dependent or target data, where rows are observations\n",
    "\n",
    "    predicted : Matrix with predicted data, where rows are observations\n",
    "\n",
    "    Returns\n",
    "    -------     \n",
    "    list type, with optimal cutoff value\n",
    "\n",
    "    \"\"\"\n",
    "    fpr, tpr, threshold = roc_curve(target, predicted)\n",
    "    i = np.arange(len(tpr)) \n",
    "    roc = pd.DataFrame({'tf' : pd.Series(tpr-(1-fpr), index=i), 'threshold' : pd.Series(threshold, index=i)})\n",
    "    roc_t = roc.iloc[(roc.tf-0).abs().argsort()[:1]]\n",
    "    # Plot tpr vs 1-fpr\n",
    "    fig, ax = plt.subplots()\n",
    "    plt.plot(tpr)\n",
    "    plt.plot(1-fpr, color = 'red')\n",
    "    plt.xlabel('1-False Positive Rate')\n",
    "    plt.ylabel('True Positive Rate')\n",
    "    plt.title('Receiver operating characteristic')\n",
    "    ax.set_xticklabels([])\n",
    "    return list(roc_t['threshold']) "
   ]
  },
  {
   "cell_type": "code",
   "execution_count": 29,
   "metadata": {},
   "outputs": [],
   "source": [
    "test_predictions_weighted = weighted_model.predict(X_test, batch_size=1000)"
   ]
  },
  {
   "cell_type": "code",
   "execution_count": 30,
   "metadata": {},
   "outputs": [
    {
     "data": {
      "text/plain": [
       "[0.10290512442588806]"
      ]
     },
     "execution_count": 30,
     "metadata": {},
     "output_type": "execute_result"
    },
    {
     "data": {
      "image/png": "[encoded data removed]",
      "text/plain": [
       "<Figure size 432x288 with 1 Axes>"
      ]
     },
     "metadata": {
      "image/png": {
       "height": 268,
       "width": 425
      },
      "needs_background": "light"
     },
     "output_type": "display_data"
    }
   ],
   "source": [
    "find_optimal_cutoff(Y_test, test_predictions_weighted)"
   ]
  },
  {
   "cell_type": "code",
   "execution_count": 31,
   "metadata": {},
   "outputs": [
    {
     "name": "stdout",
     "output_type": "stream",
     "text": [
      "Legitimate Transactions Detected (True Negatives):  54921\n",
      "Legitimate Transactions Incorrectly Detected (False Positives):  1943\n",
      "Fraudulent Transactions Missed (False Negatives):  15\n",
      "Fraudulent Transactions Detected (True Positives):  83\n",
      "Total Fraudulent Transactions:  98\n"
     ]
    },
    {
     "data": {
      "image/png": "[encoded data removed]",
      "text/plain": [
       "<Figure size 360x360 with 2 Axes>"
      ]
     },
     "metadata": {
      "image/png": {
       "height": 332,
       "width": 358
      },
      "needs_background": "light"
     },
     "output_type": "display_data"
    }
   ],
   "source": [
    "plot_cm(Y_test, test_predictions_weighted, p=0.21)"
   ]
  },
  {
   "cell_type": "code",
   "execution_count": 32,
   "metadata": {},
   "outputs": [
    {
     "name": "stdout",
     "output_type": "stream",
     "text": [
      "              precision    recall  f1-score   support\n",
      "\n",
      "           0       1.00      0.97      0.98     56864\n",
      "           1       0.04      0.85      0.08        98\n",
      "\n",
      "    accuracy                           0.97     56962\n",
      "   macro avg       0.52      0.91      0.53     56962\n",
      "weighted avg       1.00      0.97      0.98     56962\n",
      "\n"
     ]
    }
   ],
   "source": [
    "print(classification_report(Y_test, test_predictions_weighted>0.21))"
   ]
  },
  {
   "cell_type": "code",
   "execution_count": 33,
   "metadata": {},
   "outputs": [
    {
     "data": {
      "text/plain": [
       "0.906384764795057"
      ]
     },
     "execution_count": 33,
     "metadata": {},
     "output_type": "execute_result"
    }
   ],
   "source": [
    "roc_auc_score(Y_test, test_predictions_weighted>0.21)"
   ]
  },
  {
   "cell_type": "code",
   "execution_count": null,
   "metadata": {},
   "outputs": [],
   "source": []
  },
  {
   "cell_type": "code",
   "execution_count": null,
   "metadata": {},
   "outputs": [],
   "source": []
  }
 ],
 "metadata": {
  "kernelspec": {
   "display_name": "Python 3",
   "language": "python",
   "name": "python3"
  },
  "language_info": {
   "codemirror_mode": {
    "name": "ipython",
    "version": 3
   },
   "file_extension": ".py",
   "mimetype": "text/x-python",
   "name": "python",
   "nbconvert_exporter": "python",
   "pygments_lexer": "ipython3",
   "version": "3.8.3"
  }
 },
 "nbformat": 4,
 "nbformat_minor": 4
}
